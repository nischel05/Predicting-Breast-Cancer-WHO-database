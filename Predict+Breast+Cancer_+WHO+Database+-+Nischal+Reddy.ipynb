{
 "cells": [
  {
   "cell_type": "code",
   "execution_count": 1,
   "metadata": {
    "collapsed": true
   },
   "outputs": [],
   "source": [
    "import pandas as pd\n",
    "import numpy as np\n",
    "import matplotlib.pyplot as plt\n",
    "import mglearn\n",
    "from IPython.display import display\n",
    "from sklearn.model_selection import train_test_split\n",
    "from sklearn.neighbors import KNeighborsClassifier\n",
    "%matplotlib inline\n",
    "from sklearn.linear_model import LogisticRegression\n",
    "from sklearn.svm import LinearSVC"
   ]
  },
  {
   "cell_type": "code",
   "execution_count": 2,
   "metadata": {
    "collapsed": true
   },
   "outputs": [],
   "source": [
    "from sklearn.datasets import load_breast_cancer\n",
    "cancer = load_breast_cancer()"
   ]
  },
  {
   "cell_type": "code",
   "execution_count": 3,
   "metadata": {},
   "outputs": [
    {
     "data": {
      "text/plain": [
       "array([  1.79900000e+01,   1.03800000e+01,   1.22800000e+02,\n",
       "         1.00100000e+03,   1.18400000e-01,   2.77600000e-01,\n",
       "         3.00100000e-01,   1.47100000e-01,   2.41900000e-01,\n",
       "         7.87100000e-02,   1.09500000e+00,   9.05300000e-01,\n",
       "         8.58900000e+00,   1.53400000e+02,   6.39900000e-03,\n",
       "         4.90400000e-02,   5.37300000e-02,   1.58700000e-02,\n",
       "         3.00300000e-02,   6.19300000e-03,   2.53800000e+01,\n",
       "         1.73300000e+01,   1.84600000e+02,   2.01900000e+03,\n",
       "         1.62200000e-01,   6.65600000e-01,   7.11900000e-01,\n",
       "         2.65400000e-01,   4.60100000e-01,   1.18900000e-01])"
      ]
     },
     "execution_count": 3,
     "metadata": {},
     "output_type": "execute_result"
    }
   ],
   "source": [
    "cancer.keys()\n",
    "cancer['data'][0]"
   ]
  },
  {
   "cell_type": "code",
   "execution_count": 4,
   "metadata": {
    "collapsed": true
   },
   "outputs": [],
   "source": [
    "X_train, X_test, y_train, y_test = train_test_split(cancer['data'],cancer['target'])\n",
    "knn = KNeighborsClassifier()"
   ]
  },
  {
   "cell_type": "code",
   "execution_count": 5,
   "metadata": {},
   "outputs": [
    {
     "name": "stdout",
     "output_type": "stream",
     "text": [
      "The k value : 1\n",
      "0.937062937063\n",
      "The k value : 2\n",
      "0.937062937063\n",
      "The k value : 3\n",
      "0.937062937063\n",
      "The k value : 4\n",
      "0.951048951049\n",
      "The k value : 5\n",
      "0.965034965035\n",
      "The k value : 6\n",
      "0.965034965035\n",
      "The k value : 7\n",
      "0.965034965035\n",
      "The k value : 8\n",
      "0.958041958042\n",
      "The k value : 9\n",
      "0.958041958042\n",
      "The k value : 10\n",
      "0.958041958042\n",
      "The k value : 11\n",
      "0.958041958042\n",
      "The k value : 12\n",
      "0.958041958042\n",
      "The k value : 13\n",
      "0.951048951049\n",
      "The k value : 14\n",
      "0.958041958042\n",
      "The k value : 15\n",
      "0.944055944056\n",
      "The k value : 16\n",
      "0.951048951049\n",
      "The k value : 17\n",
      "0.944055944056\n",
      "The k value : 18\n",
      "0.944055944056\n",
      "The k value : 19\n",
      "0.944055944056\n",
      "The k value : 20\n",
      "0.944055944056\n",
      "The k value : 21\n",
      "0.944055944056\n",
      "The k value : 22\n",
      "0.951048951049\n",
      "The k value : 23\n",
      "0.944055944056\n",
      "The k value : 24\n",
      "0.944055944056\n",
      "The k value : 25\n",
      "0.944055944056\n",
      "The k value : 26\n",
      "0.944055944056\n",
      "The k value : 27\n",
      "0.944055944056\n",
      "The k value : 28\n",
      "0.951048951049\n",
      "The k value : 29\n",
      "0.944055944056\n",
      "The k value : 30\n",
      "0.944055944056\n",
      "The k value : 31\n",
      "0.937062937063\n",
      "The k value : 32\n",
      "0.937062937063\n",
      "The k value : 33\n",
      "0.937062937063\n",
      "The k value : 34\n",
      "0.944055944056\n",
      "The k value : 35\n",
      "0.937062937063\n",
      "The k value : 36\n",
      "0.937062937063\n",
      "The k value : 37\n",
      "0.937062937063\n",
      "The k value : 38\n",
      "0.937062937063\n",
      "The k value : 39\n",
      "0.93006993007\n",
      "The k value : 40\n",
      "0.93006993007\n",
      "The k value : 41\n",
      "0.93006993007\n",
      "The k value : 42\n",
      "0.944055944056\n",
      "The k value : 43\n",
      "0.937062937063\n",
      "The k value : 44\n",
      "0.944055944056\n",
      "The k value : 45\n",
      "0.944055944056\n",
      "The k value : 46\n",
      "0.944055944056\n",
      "The k value : 47\n",
      "0.951048951049\n",
      "The k value : 48\n",
      "0.944055944056\n",
      "The k value : 49\n",
      "0.944055944056\n",
      "The k value : 50\n",
      "0.944055944056\n"
     ]
    }
   ],
   "source": [
    "k_range = range(1, 51)\n",
    "max = 0\n",
    "bestk = 0\n",
    "for k in k_range:\n",
    "    knn = KNeighborsClassifier(n_neighbors=k)\n",
    "    # training error\n",
    "    knn.fit(X_train, y_train)\n",
    "    print(\"The k value : {}\".format(k))\n",
    "    print(knn.score(X_test, y_test))\n",
    "    if knn.score(X_test, y_test) > max:\n",
    "        max = knn.score(X_test, y_test)\n",
    "        bestk = k"
   ]
  },
  {
   "cell_type": "code",
   "execution_count": 6,
   "metadata": {
    "scrolled": true
   },
   "outputs": [
    {
     "name": "stdout",
     "output_type": "stream",
     "text": [
      "The best value of k: 5 \n",
      " The highest accuracy with this model: 0.965034965034965\n"
     ]
    }
   ],
   "source": [
    "print(\"The best value of k: {} \\n The highest accuracy with this model: {}\" .format(bestk, max ))"
   ]
  },
  {
   "cell_type": "code",
   "execution_count": 7,
   "metadata": {},
   "outputs": [
    {
     "data": {
      "text/plain": [
       "array(['mean radius', 'mean texture', 'mean perimeter', 'mean area',\n",
       "       'mean smoothness', 'mean compactness', 'mean concavity',\n",
       "       'mean concave points', 'mean symmetry', 'mean fractal dimension',\n",
       "       'radius error', 'texture error', 'perimeter error', 'area error',\n",
       "       'smoothness error', 'compactness error', 'concavity error',\n",
       "       'concave points error', 'symmetry error', 'fractal dimension error',\n",
       "       'worst radius', 'worst texture', 'worst perimeter', 'worst area',\n",
       "       'worst smoothness', 'worst compactness', 'worst concavity',\n",
       "       'worst concave points', 'worst symmetry', 'worst fractal dimension'], \n",
       "      dtype='<U23')"
      ]
     },
     "execution_count": 7,
     "metadata": {},
     "output_type": "execute_result"
    }
   ],
   "source": [
    "cancer['feature_names']"
   ]
  },
  {
   "cell_type": "code",
   "execution_count": null,
   "metadata": {},
   "outputs": [],
   "source": [
    "knn = KNeighborsClassifier(n_neighbors=bestk)\n",
    "knn.fit(X_train, y_train)\n",
    "print(\"Enter the following features in order for the prediction - 'mean radius', 'mean texture', 'mean perimeter', 'mean area',\n",
    "       'mean smoothness', 'mean compactness', 'mean concavity',\n",
    "       'mean concave points', 'mean symmetry', 'mean fractal dimension',\n",
    "       'radius error', 'texture error', 'perimeter error', 'area error',\n",
    "       'smoothness error', 'compactness error', 'concavity error',\n",
    "       'concave points error', 'symmetry error', 'fractal dimension error',\n",
    "       'worst radius', 'worst texture', 'worst perimeter', 'worst area',\n",
    "       'worst smoothness', 'worst compactness', 'worst concavity',\n",
    "       'worst concave points', 'worst symmetry', 'worst fractal dimension' \")\n",
    "X_new = input()\n",
    "print('Prediction: {}'.format(cancer['target_names'][knn.predict[X_new]]))"
   ]
  },
  {
   "cell_type": "code",
   "execution_count": 8,
   "metadata": {},
   "outputs": [
    {
     "data": {
      "text/plain": [
       "0.98122065727699526"
      ]
     },
     "execution_count": 8,
     "metadata": {},
     "output_type": "execute_result"
    }
   ],
   "source": [
    "LR = LogisticRegression(C = 10000)\n",
    "LR.fit(X_train,y_train)\n",
    "LR.score(X_train,y_train)"
   ]
  },
  {
   "cell_type": "code",
   "execution_count": 9,
   "metadata": {},
   "outputs": [
    {
     "data": {
      "text/plain": [
       "0.97902097902097907"
      ]
     },
     "execution_count": 9,
     "metadata": {},
     "output_type": "execute_result"
    }
   ],
   "source": [
    "LR.score(X_test,y_test)"
   ]
  },
  {
   "cell_type": "code",
   "execution_count": 10,
   "metadata": {},
   "outputs": [
    {
     "data": {
      "text/plain": [
       "0.81690140845070425"
      ]
     },
     "execution_count": 10,
     "metadata": {},
     "output_type": "execute_result"
    }
   ],
   "source": [
    "LS = LinearSVC(C = 10000)\n",
    "LS.fit(X_train,y_train)\n",
    "LS.score(X_train,y_train)"
   ]
  },
  {
   "cell_type": "code",
   "execution_count": 11,
   "metadata": {},
   "outputs": [
    {
     "data": {
      "text/plain": [
       "0.8951048951048951"
      ]
     },
     "execution_count": 11,
     "metadata": {},
     "output_type": "execute_result"
    }
   ],
   "source": [
    "LS.score(X_test,y_test)"
   ]
  }
 ],
 "metadata": {
  "kernelspec": {
   "display_name": "Python 3",
   "language": "python",
   "name": "python3"
  },
  "language_info": {
   "codemirror_mode": {
    "name": "ipython",
    "version": 3
   },
   "file_extension": ".py",
   "mimetype": "text/x-python",
   "name": "python",
   "nbconvert_exporter": "python",
   "pygments_lexer": "ipython3",
   "version": "3.6.1"
  }
 },
 "nbformat": 4,
 "nbformat_minor": 2
}
